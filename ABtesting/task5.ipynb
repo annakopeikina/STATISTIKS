{
 "cells": [
  {
   "cell_type": "markdown",
   "metadata": {},
   "source": [
    "Урок 8. Python применение статистических критериев на практике - пайплайн оценки A/B"
   ]
  },
  {
   "cell_type": "code",
   "execution_count": 2,
   "metadata": {},
   "outputs": [
    {
     "name": "stdout",
     "output_type": "stream",
     "text": [
      "Requirement already satisfied: scipy in c:\\users\\akopeikina\\appdata\\local\\programs\\python\\python311\\lib\\site-packages (1.11.3)\n",
      "Requirement already satisfied: numpy<1.28.0,>=1.21.6 in c:\\users\\akopeikina\\appdata\\local\\programs\\python\\python311\\lib\\site-packages (from scipy) (1.25.1)\n",
      "Note: you may need to restart the kernel to use updated packages.\n"
     ]
    },
    {
     "name": "stderr",
     "output_type": "stream",
     "text": [
      "\n",
      "[notice] A new release of pip is available: 23.3.1 -> 23.3.2\n",
      "[notice] To update, run: python.exe -m pip install --upgrade pip\n"
     ]
    }
   ],
   "source": [
    "%pip install scipy"
   ]
  },
  {
   "cell_type": "code",
   "execution_count": 3,
   "metadata": {},
   "outputs": [],
   "source": [
    "import pandas as pd\n",
    "import scipy.stats as st"
   ]
  },
  {
   "cell_type": "code",
   "execution_count": 8,
   "metadata": {},
   "outputs": [
    {
     "name": "stdout",
     "output_type": "stream",
     "text": [
      "c:\\Users\\akopeikina\\OneDrive\\Desktop\\Statistiks\\ABtesting\n"
     ]
    }
   ],
   "source": [
    "import os\n",
    "print(os.getcwd())"
   ]
  },
  {
   "cell_type": "code",
   "execution_count": 12,
   "metadata": {},
   "outputs": [],
   "source": [
    "df = pd.read_csv('ab_stats.csv')"
   ]
  },
  {
   "cell_type": "code",
   "execution_count": 13,
   "metadata": {},
   "outputs": [
    {
     "data": {
      "text/html": [
       "<div>\n",
       "<style scoped>\n",
       "    .dataframe tbody tr th:only-of-type {\n",
       "        vertical-align: middle;\n",
       "    }\n",
       "\n",
       "    .dataframe tbody tr th {\n",
       "        vertical-align: top;\n",
       "    }\n",
       "\n",
       "    .dataframe thead th {\n",
       "        text-align: right;\n",
       "    }\n",
       "</style>\n",
       "<table border=\"1\" class=\"dataframe\">\n",
       "  <thead>\n",
       "    <tr style=\"text-align: right;\">\n",
       "      <th></th>\n",
       "      <th>revenue</th>\n",
       "      <th>num_purchases</th>\n",
       "      <th>purchase</th>\n",
       "      <th>ab_group</th>\n",
       "      <th>av_site visit</th>\n",
       "    </tr>\n",
       "  </thead>\n",
       "  <tbody>\n",
       "    <tr>\n",
       "      <th>0</th>\n",
       "      <td>0.0</td>\n",
       "      <td>0</td>\n",
       "      <td>0</td>\n",
       "      <td>A</td>\n",
       "      <td>9.040174</td>\n",
       "    </tr>\n",
       "    <tr>\n",
       "      <th>1</th>\n",
       "      <td>0.0</td>\n",
       "      <td>0</td>\n",
       "      <td>0</td>\n",
       "      <td>A</td>\n",
       "      <td>4.811628</td>\n",
       "    </tr>\n",
       "    <tr>\n",
       "      <th>2</th>\n",
       "      <td>0.0</td>\n",
       "      <td>0</td>\n",
       "      <td>0</td>\n",
       "      <td>A</td>\n",
       "      <td>7.342623</td>\n",
       "    </tr>\n",
       "    <tr>\n",
       "      <th>3</th>\n",
       "      <td>0.0</td>\n",
       "      <td>0</td>\n",
       "      <td>0</td>\n",
       "      <td>A</td>\n",
       "      <td>7.744581</td>\n",
       "    </tr>\n",
       "    <tr>\n",
       "      <th>4</th>\n",
       "      <td>0.0</td>\n",
       "      <td>0</td>\n",
       "      <td>0</td>\n",
       "      <td>A</td>\n",
       "      <td>10.511814</td>\n",
       "    </tr>\n",
       "    <tr>\n",
       "      <th>...</th>\n",
       "      <td>...</td>\n",
       "      <td>...</td>\n",
       "      <td>...</td>\n",
       "      <td>...</td>\n",
       "      <td>...</td>\n",
       "    </tr>\n",
       "    <tr>\n",
       "      <th>23647</th>\n",
       "      <td>0.0</td>\n",
       "      <td>0</td>\n",
       "      <td>0</td>\n",
       "      <td>B</td>\n",
       "      <td>10.207152</td>\n",
       "    </tr>\n",
       "    <tr>\n",
       "      <th>23648</th>\n",
       "      <td>0.0</td>\n",
       "      <td>0</td>\n",
       "      <td>0</td>\n",
       "      <td>B</td>\n",
       "      <td>5.148761</td>\n",
       "    </tr>\n",
       "    <tr>\n",
       "      <th>23649</th>\n",
       "      <td>0.0</td>\n",
       "      <td>0</td>\n",
       "      <td>0</td>\n",
       "      <td>B</td>\n",
       "      <td>4.809019</td>\n",
       "    </tr>\n",
       "    <tr>\n",
       "      <th>23650</th>\n",
       "      <td>0.0</td>\n",
       "      <td>0</td>\n",
       "      <td>0</td>\n",
       "      <td>B</td>\n",
       "      <td>8.127488</td>\n",
       "    </tr>\n",
       "    <tr>\n",
       "      <th>23651</th>\n",
       "      <td>0.0</td>\n",
       "      <td>0</td>\n",
       "      <td>0</td>\n",
       "      <td>B</td>\n",
       "      <td>8.928102</td>\n",
       "    </tr>\n",
       "  </tbody>\n",
       "</table>\n",
       "<p>23652 rows × 5 columns</p>\n",
       "</div>"
      ],
      "text/plain": [
       "       revenue  num_purchases  purchase ab_group  av_site visit\n",
       "0          0.0              0         0        A       9.040174\n",
       "1          0.0              0         0        A       4.811628\n",
       "2          0.0              0         0        A       7.342623\n",
       "3          0.0              0         0        A       7.744581\n",
       "4          0.0              0         0        A      10.511814\n",
       "...        ...            ...       ...      ...            ...\n",
       "23647      0.0              0         0        B      10.207152\n",
       "23648      0.0              0         0        B       5.148761\n",
       "23649      0.0              0         0        B       4.809019\n",
       "23650      0.0              0         0        B       8.127488\n",
       "23651      0.0              0         0        B       8.928102\n",
       "\n",
       "[23652 rows x 5 columns]"
      ]
     },
     "execution_count": 13,
     "metadata": {},
     "output_type": "execute_result"
    }
   ],
   "source": [
    "df"
   ]
  },
  {
   "cell_type": "code",
   "execution_count": 14,
   "metadata": {},
   "outputs": [
    {
     "data": {
      "text/plain": [
       "revenue          0\n",
       "num_purchases    0\n",
       "purchase         0\n",
       "ab_group         0\n",
       "av_site visit    0\n",
       "dtype: int64"
      ]
     },
     "execution_count": 14,
     "metadata": {},
     "output_type": "execute_result"
    }
   ],
   "source": [
    "df.isna().sum()"
   ]
  },
  {
   "cell_type": "code",
   "execution_count": 15,
   "metadata": {},
   "outputs": [
    {
     "name": "stdout",
     "output_type": "stream",
     "text": [
      "<class 'pandas.core.frame.DataFrame'>\n",
      "RangeIndex: 23652 entries, 0 to 23651\n",
      "Data columns (total 5 columns):\n",
      " #   Column         Non-Null Count  Dtype  \n",
      "---  ------         --------------  -----  \n",
      " 0   revenue        23652 non-null  float64\n",
      " 1   num_purchases  23652 non-null  int64  \n",
      " 2   purchase       23652 non-null  int64  \n",
      " 3   ab_group       23652 non-null  object \n",
      " 4   av_site visit  23652 non-null  float64\n",
      "dtypes: float64(2), int64(2), object(1)\n",
      "memory usage: 924.0+ KB\n"
     ]
    }
   ],
   "source": [
    "df.info()"
   ]
  },
  {
   "cell_type": "code",
   "execution_count": 17,
   "metadata": {},
   "outputs": [],
   "source": [
    "import numpy as np"
   ]
  },
  {
   "cell_type": "code",
   "execution_count": 21,
   "metadata": {},
   "outputs": [],
   "source": [
    "df = df.astype({'num_purchases':np.uint8})"
   ]
  },
  {
   "cell_type": "code",
   "execution_count": 48,
   "metadata": {},
   "outputs": [
    {
     "data": {
      "text/html": [
       "<div>\n",
       "<style scoped>\n",
       "    .dataframe tbody tr th:only-of-type {\n",
       "        vertical-align: middle;\n",
       "    }\n",
       "\n",
       "    .dataframe tbody tr th {\n",
       "        vertical-align: top;\n",
       "    }\n",
       "\n",
       "    .dataframe thead th {\n",
       "        text-align: right;\n",
       "    }\n",
       "</style>\n",
       "<table border=\"1\" class=\"dataframe\">\n",
       "  <thead>\n",
       "    <tr style=\"text-align: right;\">\n",
       "      <th></th>\n",
       "      <th>revenue</th>\n",
       "      <th>num_purchases</th>\n",
       "      <th>purchase</th>\n",
       "      <th>ab_group</th>\n",
       "      <th>av_site visit</th>\n",
       "    </tr>\n",
       "  </thead>\n",
       "  <tbody>\n",
       "    <tr>\n",
       "      <th>count</th>\n",
       "      <td>23184.000000</td>\n",
       "      <td>23184.000000</td>\n",
       "      <td>23184.000000</td>\n",
       "      <td>23184</td>\n",
       "      <td>23184.000000</td>\n",
       "    </tr>\n",
       "    <tr>\n",
       "      <th>unique</th>\n",
       "      <td>NaN</td>\n",
       "      <td>NaN</td>\n",
       "      <td>NaN</td>\n",
       "      <td>2</td>\n",
       "      <td>NaN</td>\n",
       "    </tr>\n",
       "    <tr>\n",
       "      <th>top</th>\n",
       "      <td>NaN</td>\n",
       "      <td>NaN</td>\n",
       "      <td>NaN</td>\n",
       "      <td>A</td>\n",
       "      <td>NaN</td>\n",
       "    </tr>\n",
       "    <tr>\n",
       "      <th>freq</th>\n",
       "      <td>NaN</td>\n",
       "      <td>NaN</td>\n",
       "      <td>NaN</td>\n",
       "      <td>11829</td>\n",
       "      <td>NaN</td>\n",
       "    </tr>\n",
       "    <tr>\n",
       "      <th>mean</th>\n",
       "      <td>0.326511</td>\n",
       "      <td>0.043780</td>\n",
       "      <td>0.020704</td>\n",
       "      <td>NaN</td>\n",
       "      <td>7.188254</td>\n",
       "    </tr>\n",
       "    <tr>\n",
       "      <th>std</th>\n",
       "      <td>9.645839</td>\n",
       "      <td>1.089462</td>\n",
       "      <td>0.142394</td>\n",
       "      <td>NaN</td>\n",
       "      <td>2.924011</td>\n",
       "    </tr>\n",
       "    <tr>\n",
       "      <th>min</th>\n",
       "      <td>0.000000</td>\n",
       "      <td>0.000000</td>\n",
       "      <td>0.000000</td>\n",
       "      <td>NaN</td>\n",
       "      <td>0.008679</td>\n",
       "    </tr>\n",
       "    <tr>\n",
       "      <th>25%</th>\n",
       "      <td>0.000000</td>\n",
       "      <td>0.000000</td>\n",
       "      <td>0.000000</td>\n",
       "      <td>NaN</td>\n",
       "      <td>5.314379</td>\n",
       "    </tr>\n",
       "    <tr>\n",
       "      <th>50%</th>\n",
       "      <td>0.000000</td>\n",
       "      <td>0.000000</td>\n",
       "      <td>0.000000</td>\n",
       "      <td>NaN</td>\n",
       "      <td>7.068656</td>\n",
       "    </tr>\n",
       "    <tr>\n",
       "      <th>75%</th>\n",
       "      <td>0.000000</td>\n",
       "      <td>0.000000</td>\n",
       "      <td>0.000000</td>\n",
       "      <td>NaN</td>\n",
       "      <td>8.910900</td>\n",
       "    </tr>\n",
       "    <tr>\n",
       "      <th>max</th>\n",
       "      <td>1303.609284</td>\n",
       "      <td>152.000000</td>\n",
       "      <td>1.000000</td>\n",
       "      <td>NaN</td>\n",
       "      <td>22.446822</td>\n",
       "    </tr>\n",
       "  </tbody>\n",
       "</table>\n",
       "</div>"
      ],
      "text/plain": [
       "             revenue  num_purchases      purchase ab_group  av_site visit\n",
       "count   23184.000000   23184.000000  23184.000000    23184   23184.000000\n",
       "unique           NaN            NaN           NaN        2            NaN\n",
       "top              NaN            NaN           NaN        A            NaN\n",
       "freq             NaN            NaN           NaN    11829            NaN\n",
       "mean        0.326511       0.043780      0.020704      NaN       7.188254\n",
       "std         9.645839       1.089462      0.142394      NaN       2.924011\n",
       "min         0.000000       0.000000      0.000000      NaN       0.008679\n",
       "25%         0.000000       0.000000      0.000000      NaN       5.314379\n",
       "50%         0.000000       0.000000      0.000000      NaN       7.068656\n",
       "75%         0.000000       0.000000      0.000000      NaN       8.910900\n",
       "max      1303.609284     152.000000      1.000000      NaN      22.446822"
      ]
     },
     "execution_count": 48,
     "metadata": {},
     "output_type": "execute_result"
    }
   ],
   "source": [
    "df.describe(include='all')"
   ]
  },
  {
   "cell_type": "code",
   "execution_count": 31,
   "metadata": {},
   "outputs": [
    {
     "name": "stdout",
     "output_type": "stream",
     "text": [
      "         revenue  num_purchases  purchase ab_group  av_site visit\n",
      "615     4.990000              1         1        A       8.489661\n",
      "1276    1.990000              1         1        A       7.135735\n",
      "1500    1.990000              1         1        A       7.375742\n",
      "1962    1.990000              1         1        A      11.436115\n",
      "2054    4.990000              1         1        A       4.394339\n",
      "...          ...            ...       ...      ...            ...\n",
      "22787   1.990000              1         1        B       6.354351\n",
      "22835   1.990000              1         1        B       3.568086\n",
      "22960   3.990000              1         1        B       5.960457\n",
      "23584  19.990000              1         1        B       9.813696\n",
      "23616   2.453401              1         1        B      11.909353\n",
      "\n",
      "[116 rows x 5 columns]\n"
     ]
    }
   ],
   "source": [
    "\n",
    "# Удаление строк с нулевыми значениями и проверка на дубликаты\n",
    "duplicates = df[(df['revenue'] != 0) & (df['purchase'] != 0) & (df['num_purchases'] != 0)].duplicated(subset=['revenue', 'purchase', 'num_purchases'])\n",
    "\n",
    "# Выведем только строки с дубликатами по трём столбцам \n",
    "print(df[(df['revenue'] != 0) & (df['purchase'] != 0) & (df['num_purchases'] != 0)][duplicates])"
   ]
  },
  {
   "cell_type": "code",
   "execution_count": 43,
   "metadata": {},
   "outputs": [
    {
     "name": "stdout",
     "output_type": "stream",
     "text": [
      "Столбец 'revenue':\n",
      "  Статистика теста: 0.011580824851989746\n",
      "  P-значение теста: 0.0\n",
      "  Распределение данных в столбце 'revenue' не является нормальным.\n",
      "\n",
      "Столбец 'purchase':\n",
      "  Статистика теста: 0.12259548902511597\n",
      "  P-значение теста: 0.0\n",
      "  Распределение данных в столбце 'purchase' не является нормальным.\n",
      "\n",
      "Столбец 'num_purchases':\n",
      "  Статистика теста: 0.014115571975708008\n",
      "  P-значение теста: 0.0\n",
      "  Распределение данных в столбце 'num_purchases' не является нормальным.\n",
      "\n"
     ]
    }
   ],
   "source": [
    "from scipy.stats import shapiro\n",
    "\n",
    "# Предположим, что df - это ваш DataFrame\n",
    "\n",
    "# Список столбцов, которые вы хотите проверить на нормальность\n",
    "columns_to_check = ['revenue', 'purchase', 'num_purchases']\n",
    "\n",
    "for column in columns_to_check:\n",
    "    # Проведение теста Шапиро-Уилка\n",
    "    stat, p_value = shapiro(df[column])\n",
    "\n",
    "    # Вывод результатов теста для каждого столбца\n",
    "    print(f\"Столбец '{column}':\")\n",
    "    print(f\"  Статистика теста: {stat}\")\n",
    "    print(f\"  P-значение теста: {p_value}\")\n",
    "\n",
    "    # Принятие решения на основе уровня значимости (обычно 0.05)\n",
    "    if p_value < 0.05:\n",
    "        print(f\"  Распределение данных в столбце '{column}' не является нормальным.\")\n",
    "    else:\n",
    "        print(f\"  Распределение данных в столбце '{column}' может быть нормальным.\")\n",
    "    print()\n"
   ]
  },
  {
   "cell_type": "code",
   "execution_count": 47,
   "metadata": {},
   "outputs": [
    {
     "data": {
      "image/png": "[encoded data removed]",
      "text/plain": [
       "<Figure size 1500x500 with 3 Axes>"
      ]
     },
     "metadata": {},
     "output_type": "display_data"
    }
   ],
   "source": [
    "import matplotlib.pyplot as plt\n",
    "import seaborn as sns\n",
    "columns_to_visualize = ['revenue', 'purchase', 'num_purchases']\n",
    "# Устанавливаем стиль seaborn для более красивых графиков\n",
    "sns.set(style=\"whitegrid\")\n",
    "# Создаем фигуру с тремя подграфиками\n",
    "fig, axes = plt.subplots(nrows=1, ncols=len(columns_to_visualize), figsize=(15, 5))\n",
    "\n",
    "for i, column in enumerate(columns_to_visualize):\n",
    "    sns.histplot(df[column], kde=True, ax=axes[i], color='skyblue')\n",
    "    axes[i].set_title(f'Distribution of {column}')\n",
    "\n",
    "plt.show()"
   ]
  },
  {
   "cell_type": "code",
   "execution_count": 36,
   "metadata": {},
   "outputs": [
    {
     "name": "stdout",
     "output_type": "stream",
     "text": [
      "       revenue  num_purchases  purchase ab_group  av_site visit\n",
      "1789       0.0              0         0        A     -12.073486\n",
      "1856       0.0              0         0        A      -0.683411\n",
      "5122       0.0              0         0        A      -0.045455\n",
      "7109       0.0              0         0        A     -12.073486\n",
      "8118       0.0              0         0        A      -0.126946\n",
      "...        ...            ...       ...      ...            ...\n",
      "23567      0.0              0         0        B      -3.901748\n",
      "23606      0.0              0         0        B      -2.284448\n",
      "23626      0.0              0         0        B      -3.528928\n",
      "23634      0.0              0         0        B      -1.708265\n",
      "23635      0.0              0         0        B      -0.367416\n",
      "\n",
      "[468 rows x 5 columns]\n",
      "T-статистика для 'revenue': 5.224524097475803, P-значение: 1.7608312830929852e-07\n",
      "T-статистика для 'av_site visit': 341.902760495354, P-значение: 0.0\n",
      "Отрицательные значения в 'revenue' или 'av_site visit' статистически значимы.\n"
     ]
    }
   ],
   "source": [
    "from scipy.stats import ttest_1samp\n",
    "# Проверка наличия отрицательных значений в столбцах 'revenue' и 'av_site visit'\n",
    "negative_values_revenue = df['revenue'] < 0\n",
    "negative_values_av_site_visit = df['av_site visit'] < 0\n",
    "# Выведем строки с отрицательными значениями в столбцах 'revenue' и 'av_site visit'\n",
    "print(df[negative_values_revenue | negative_values_av_site_visit])\n",
    "# Проведение t-теста для среднего значения в столбце 'revenue'\n",
    "t_stat_revenue, p_value_revenue = ttest_1samp(df['revenue'], 0)\n",
    "# Проведение t-теста для среднего значения в столбце 'av_site visit'\n",
    "t_stat_av_site_visit, p_value_av_site_visit = ttest_1samp(df['av_site visit'], 0)\n",
    "print(f\"T-статистика для 'revenue': {t_stat_revenue}, P-значение: {p_value_revenue}\")\n",
    "print(f\"T-статистика для 'av_site visit': {t_stat_av_site_visit}, P-значение: {p_value_av_site_visit}\")\n",
    "\n",
    "if p_value_revenue < 0.05 or p_value_av_site_visit < 0.05:\n",
    "    print(\"Отрицательные значения в 'revenue' или 'av_site visit' статистически значимы.\")\n",
    "    # Удаление строк с отрицательными значениями в 'revenue' или 'av_site visit'\n",
    "    df = df[~(negative_values_revenue | negative_values_av_site_visit)]\n",
    "else:\n",
    "    print(\"Отрицательные значения в 'revenue' и 'av_site visit' не являются статистически значимыми.\")"
   ]
  },
  {
   "cell_type": "code",
   "execution_count": 40,
   "metadata": {},
   "outputs": [
    {
     "name": "stdout",
     "output_type": "stream",
     "text": [
      "Z-статистика: -4846107.03793\n",
      "p-value: 0.000000000000000000000000000000\n",
      "\n",
      "Результат статистически значим, можно рассмотреть удаление дубликатов.\n"
     ]
    }
   ],
   "source": [
    "import pandas as pd\n",
    "from statsmodels.stats.proportion import proportions_ztest\n",
    "from decimal import Decimal, getcontext\n",
    "total_rows = len(df)\n",
    "# Количество дубликатов\n",
    "duplicates_count = df.duplicated().sum()\n",
    "expected_duplicates = total_rows * (1 / 2)\n",
    "# Выполнение Z-теста для доли\n",
    "z_stat, p_value = proportions_ztest(duplicates_count, total_rows, expected_duplicates)\n",
    "getcontext().prec = 50\n",
    "print(f\"Z-статистика: {z_stat:.5f}\")\n",
    "print(f\"p-value: {p_value:.30f}\")\n",
    "print()\n",
    "# Принятие решения на основе уровня значимости\n",
    "if p_value < Decimal('0.05'):\n",
    "    print(\"Результат статистически значим, можно рассмотреть удаление дубликатов.\")\n",
    "else:\n",
    "    print(\"Результат не является статистически значимым.\")"
   ]
  },
  {
   "cell_type": "markdown",
   "metadata": {},
   "source": [
    "В данном случае некорректность информации не позволяет провести статистическую обработку данных и сделать однозначный вывод на основании этого анализа; Уточнение данных из источника или проведение дополнительного сбора данных является желательным."
   ]
  }
 ],
 "metadata": {
  "kernelspec": {
   "display_name": "Python 3",
   "language": "python",
   "name": "python3"
  },
  "language_info": {
   "codemirror_mode": {
    "name": "ipython",
    "version": 3
   },
   "file_extension": ".py",
   "mimetype": "text/x-python",
   "name": "python",
   "nbconvert_exporter": "python",
   "pygments_lexer": "ipython3",
   "version": "3.11.3"
  }
 },
 "nbformat": 4,
 "nbformat_minor": 2
}
